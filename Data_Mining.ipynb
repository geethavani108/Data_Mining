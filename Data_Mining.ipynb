{
 "cells": [
  {
   "cell_type": "code",
   "execution_count": 1,
   "metadata": {},
   "outputs": [
    {
     "data": {
      "text/plain": [
       "'7.4.2'"
      ]
     },
     "execution_count": 1,
     "metadata": {},
     "output_type": "execute_result"
    }
   ],
   "source": [
    "import pandas as pd\n",
    "import numpy as np\n",
    "import matplotlib.pyplot as plt\n",
    "import seaborn as sns\n",
    "import warnings\n",
    "warnings.filterwarnings(\"ignore\")\n",
    "import ipywidgets \n",
    "ipywidgets.__version__\n"
   ]
  },
  {
   "cell_type": "code",
   "execution_count": 2,
   "metadata": {},
   "outputs": [
    {
     "data": {
      "text/html": [
       "<div>\n",
       "<style scoped>\n",
       "    .dataframe tbody tr th:only-of-type {\n",
       "        vertical-align: middle;\n",
       "    }\n",
       "\n",
       "    .dataframe tbody tr th {\n",
       "        vertical-align: top;\n",
       "    }\n",
       "\n",
       "    .dataframe thead th {\n",
       "        text-align: right;\n",
       "    }\n",
       "</style>\n",
       "<table border=\"1\" class=\"dataframe\">\n",
       "  <thead>\n",
       "    <tr style=\"text-align: right;\">\n",
       "      <th></th>\n",
       "      <th>Timestamp</th>\n",
       "      <th>Industry</th>\n",
       "      <th>Employees_size</th>\n",
       "      <th>IT_size</th>\n",
       "      <th>team_size</th>\n",
       "      <th>LifeCycle_Software</th>\n",
       "      <th>Software_System</th>\n",
       "      <th>Software_system_architecture</th>\n",
       "      <th>Deployable_Components</th>\n",
       "      <th>Runtime_component_instances</th>\n",
       "      <th>...</th>\n",
       "      <th>alert_rate</th>\n",
       "      <th>alert_percentage</th>\n",
       "      <th>maximum_granularity</th>\n",
       "      <th>retention _policy</th>\n",
       "      <th>reliability_availability</th>\n",
       "      <th>maturity level_improvement</th>\n",
       "      <th>adoption_main_obstacles</th>\n",
       "      <th>survey_useful</th>\n",
       "      <th>additional_comments</th>\n",
       "      <th>Unnamed: 40</th>\n",
       "    </tr>\n",
       "  </thead>\n",
       "  <tbody>\n",
       "    <tr>\n",
       "      <th>0</th>\n",
       "      <td>7-25-2016 15:41:09</td>\n",
       "      <td>Health Care</td>\n",
       "      <td>6 - 20</td>\n",
       "      <td>1 - 5</td>\n",
       "      <td>1 - 5</td>\n",
       "      <td>Requirement Engineering, Design, Middleware an...</td>\n",
       "      <td>IoT application</td>\n",
       "      <td>Client-server, Service-oriented architecture (...</td>\n",
       "      <td>11 - 20</td>\n",
       "      <td>21 - 50</td>\n",
       "      <td>...</td>\n",
       "      <td>At least 1 per year</td>\n",
       "      <td>1 - 5%</td>\n",
       "      <td>2 to 10 seconds</td>\n",
       "      <td>Monitoring data is aggregated at different gra...</td>\n",
       "      <td>All or some of the monitoring components are m...</td>\n",
       "      <td>We are always improving it</td>\n",
       "      <td>There are too many tools, Lack of standardizat...</td>\n",
       "      <td>Yes</td>\n",
       "      <td>NaN</td>\n",
       "      <td>NaN</td>\n",
       "    </tr>\n",
       "    <tr>\n",
       "      <th>1</th>\n",
       "      <td>7-25-2016 16:14:13</td>\n",
       "      <td>Technology</td>\n",
       "      <td>501 - 2,000</td>\n",
       "      <td>101 - 500</td>\n",
       "      <td>6 - 20</td>\n",
       "      <td>System administration and operation management</td>\n",
       "      <td>Entertainment</td>\n",
       "      <td>Service-oriented architecture (SOA)</td>\n",
       "      <td>&gt; 100</td>\n",
       "      <td>2,001 - 10,000</td>\n",
       "      <td>...</td>\n",
       "      <td>More than 100 per day</td>\n",
       "      <td>6 - 20%</td>\n",
       "      <td>One second</td>\n",
       "      <td>Monitoring data is aggregated at different gra...</td>\n",
       "      <td>All or some of the monitoring components are m...</td>\n",
       "      <td>We are always improving it</td>\n",
       "      <td>Lack of automation, Tools are hard to use and ...</td>\n",
       "      <td>No</td>\n",
       "      <td>NaN</td>\n",
       "      <td>NaN</td>\n",
       "    </tr>\n",
       "    <tr>\n",
       "      <th>2</th>\n",
       "      <td>7-25-2016 21:09:17</td>\n",
       "      <td>Technology</td>\n",
       "      <td>21 - 100</td>\n",
       "      <td>21 - 100</td>\n",
       "      <td>6 - 20</td>\n",
       "      <td>System administration and operation management</td>\n",
       "      <td>Product engineering software</td>\n",
       "      <td>Monolithic architecture</td>\n",
       "      <td>1 - 3</td>\n",
       "      <td>1 - 5</td>\n",
       "      <td>...</td>\n",
       "      <td>1 - 20 per day</td>\n",
       "      <td>6 - 20%</td>\n",
       "      <td>Over 1 minute</td>\n",
       "      <td>Monitoring data is stored as raw data forever</td>\n",
       "      <td>Monitoring components are replicated or distri...</td>\n",
       "      <td>Yes, we plan to improve it in the next future</td>\n",
       "      <td>Lack of standardization, Current tools are not...</td>\n",
       "      <td>Yes</td>\n",
       "      <td>NaN</td>\n",
       "      <td>NaN</td>\n",
       "    </tr>\n",
       "  </tbody>\n",
       "</table>\n",
       "<p>3 rows × 41 columns</p>\n",
       "</div>"
      ],
      "text/plain": [
       "            Timestamp     Industry Employees_size      IT_size team_size  \\\n",
       "0  7-25-2016 15:41:09  Health Care           6 - 20      1 - 5     1 - 5   \n",
       "1  7-25-2016 16:14:13   Technology      501 - 2,000  101 - 500    6 - 20   \n",
       "2  7-25-2016 21:09:17   Technology         21 - 100   21 - 100    6 - 20   \n",
       "\n",
       "                                  LifeCycle_Software  \\\n",
       "0  Requirement Engineering, Design, Middleware an...   \n",
       "1     System administration and operation management   \n",
       "2     System administration and operation management   \n",
       "\n",
       "                Software_System  \\\n",
       "0               IoT application   \n",
       "1                 Entertainment   \n",
       "2  Product engineering software   \n",
       "\n",
       "                        Software_system_architecture Deployable_Components  \\\n",
       "0  Client-server, Service-oriented architecture (...               11 - 20   \n",
       "1                Service-oriented architecture (SOA)                 > 100   \n",
       "2                            Monolithic architecture                 1 - 3   \n",
       "\n",
       "   Runtime_component_instances     ...                 alert_rate  \\\n",
       "0                      21 - 50     ...        At least 1 per year   \n",
       "1               2,001 - 10,000     ...      More than 100 per day   \n",
       "2                        1 - 5     ...             1 - 20 per day   \n",
       "\n",
       "   alert_percentage maximum_granularity   \\\n",
       "0            1 - 5%      2 to 10 seconds   \n",
       "1           6 - 20%           One second   \n",
       "2           6 - 20%        Over 1 minute   \n",
       "\n",
       "                                   retention _policy  \\\n",
       "0  Monitoring data is aggregated at different gra...   \n",
       "1  Monitoring data is aggregated at different gra...   \n",
       "2      Monitoring data is stored as raw data forever   \n",
       "\n",
       "                            reliability_availability  \\\n",
       "0  All or some of the monitoring components are m...   \n",
       "1  All or some of the monitoring components are m...   \n",
       "2  Monitoring components are replicated or distri...   \n",
       "\n",
       "                      maturity level_improvement  \\\n",
       "0                     We are always improving it   \n",
       "1                     We are always improving it   \n",
       "2  Yes, we plan to improve it in the next future   \n",
       "\n",
       "                             adoption_main_obstacles survey_useful  \\\n",
       "0  There are too many tools, Lack of standardizat...           Yes   \n",
       "1  Lack of automation, Tools are hard to use and ...            No   \n",
       "2  Lack of standardization, Current tools are not...           Yes   \n",
       "\n",
       "  additional_comments Unnamed: 40  \n",
       "0                 NaN         NaN  \n",
       "1                 NaN         NaN  \n",
       "2                 NaN         NaN  \n",
       "\n",
       "[3 rows x 41 columns]"
      ]
     },
     "execution_count": 2,
     "metadata": {},
     "output_type": "execute_result"
    }
   ],
   "source": [
    "df=pd.read_csv(r'C:\\\\Users\\kmmoh\\Downloads\\survery.csv')\n",
    "df.head(3)"
   ]
  },
  {
   "cell_type": "code",
   "execution_count": 3,
   "metadata": {},
   "outputs": [
    {
     "data": {
      "text/plain": [
       "Index(['Timestamp', 'Industry', 'Employees_size  ', ' IT_size', 'team_size',\n",
       "       'LifeCycle_Software', 'Software_System', 'Software_system_architecture',\n",
       "       'Deployable_Components', ' Runtime_component_instances',\n",
       "       'Component_Communication_Styles ', 'Deployed_on',\n",
       "       'Computing_Model_Layers ', 'Release_automation_rate',\n",
       "       'upgrades_release rate', 'System_load_ user_requests',\n",
       "       'observability_rate', 'problem_discover  ',\n",
       "       'Incident_first_check_metrics', ' Most_common_incident ',\n",
       "       'Incidents_require_manual_ intervention', 'managed_incidents',\n",
       "       'Incidents_number_history', 'unavailability_time',\n",
       "       'Incident_diagnose_time', 'Deployment_techniques', 'third_party_tools ',\n",
       "       'new_component_in production', 'monitoring_information_access',\n",
       "       'alert_receiver', 'receive_alerts_employees', 'alert_rate',\n",
       "       ' alert_percentage', 'maximum_granularity ', ' retention _policy',\n",
       "       'reliability_availability', 'maturity level_improvement',\n",
       "       'adoption_main_obstacles', 'survey_useful', 'additional_comments',\n",
       "       'Unnamed: 40'],\n",
       "      dtype='object')"
      ]
     },
     "execution_count": 3,
     "metadata": {},
     "output_type": "execute_result"
    }
   ],
   "source": [
    "df.columns"
   ]
  },
  {
   "cell_type": "markdown",
   "metadata": {},
   "source": [
    "# setting Mispelt column names"
   ]
  },
  {
   "cell_type": "code",
   "execution_count": 4,
   "metadata": {},
   "outputs": [],
   "source": [
    "    ###############################################################\n",
    "    df['Employees_size']=df['Employees_size  ']\n",
    "    df['Component_Communication_Styles']=df['Component_Communication_Styles ']\n",
    "    df['maximum_granularity']=df['maximum_granularity ']\n",
    "    df['retention_policy']=df[' retention _policy']\n",
    "    df['Most_common_incident']=df[' Most_common_incident ']\n",
    "    df['alert_percentage']=df[' alert_percentage']\n",
    "    df['IT_size']=df[' IT_size']\n",
    "    df['Runtime_component_instances']=df[' Runtime_component_instances']\n",
    "    df['Computing_Model_Layers']=df['Computing_Model_Layers ']\n",
    "    df['System_load_user_requests']=df['System_load_ user_requests']\n",
    "    \n",
    "df.drop(['Employees_size  ','Component_Communication_Styles ','maximum_granularity ', ' retention _policy',' Most_common_incident ',' alert_percentage',' IT_size',' Runtime_component_instances','Computing_Model_Layers ','System_load_ user_requests'],axis=1,inplace=True)\n",
    " \n",
    "#df_subset.apply(pd.Series.value_counts)    "
   ]
  },
  {
   "cell_type": "markdown",
   "metadata": {},
   "source": [
    "# Missing Values Imputation"
   ]
  },
  {
   "cell_type": "code",
   "execution_count": null,
   "metadata": {},
   "outputs": [],
   "source": [
    "df[df['team_size'].isna()]\n",
    "df['team_size'].fillna('6 - 20',inplace=True)\n",
    "df['team_size'].head(10)\n",
    "df['Release_automation_rate'].fillna('3.0',inplace=True)\n",
    "df['upgrades_release rate'].fillna('At least 1 release per month',inplace=True)\n",
    "df['observability_rate'].fillna('3.0',inplace=True)\n",
    "df['receive_alerts_employees'].fillna('2.0',inplace=True)\n",
    "df['System_load_user_requests'].fillna('11 - 100',inplace=True)\n",
    "df['Incidents_number_history'].fillna('1 - 5',inplace=True)\n",
    "df['unavailability_time'].fillna('Less than 1 hour',inplace=True)\n",
    "df['alert_rate'].fillna('1 - 20 per day',inplace=True)\n",
    "df['alert_percentage'].fillna('1 - 5%',inplace=True)\n",
    "df['maximum_granularity'].fillna('Over 1 minute',inplace=True)\n",
    "df['retention_policy'].fillna('Monitoring data is aggregated at different granularities based on its aging',inplace=True)\n",
    "df['Computing_Model_Layers'].fillna('Virtual machines (IaaS)',inplace=True) \n",
    "df['LifeCycle_Software'].fillna('Development',inplace=True) \n",
    "df['Component_Communication_Styles'].fillna('Request/response synchronous communication',inplace=True)\n",
    "df['Deployment_techniques'].fillna('Manual checks via terminal (e.g.: ping, ssh, logs grepping)',inplace=True)\n",
    "df['new_component_in production'].fillna('It is released with no monitoring or relying on the existing monitoring configuration',inplace=True) \n",
    "\n"
   ]
  },
  {
   "cell_type": "markdown",
   "metadata": {},
   "source": [
    "# Needed columns for analysis"
   ]
  },
  {
   "cell_type": "code",
   "execution_count": null,
   "metadata": {},
   "outputs": [],
   "source": [
    "df_cdf = df[[ 'Employees_size', 'IT_size', 'team_size','Deployable_Components', 'Runtime_component_instances', 'Release_automation_rate','upgrades_release rate', 'System_load_user_requests','observability_rate', 'Incidents_number_history', 'unavailability_time','receive_alerts_employees', 'alert_rate','alert_percentage', 'maximum_granularity', 'retention_policy']]\n",
    "\n",
    "df_ndf = df[['Industry','Computing_Model_Layers','LifeCycle_Software', 'Software_System', 'Software_system_architecture','Deployment_techniques','Component_Communication_Styles','Most_common_incident','new_component_in production','Deployed_on'] ]\n"
   ]
  },
  {
   "cell_type": "code",
   "execution_count": null,
   "metadata": {},
   "outputs": [],
   "source": [
    "df_cdf.isna().sum()\n"
   ]
  },
  {
   "cell_type": "code",
   "execution_count": null,
   "metadata": {},
   "outputs": [],
   "source": [
    "df_ndf.isna().sum()"
   ]
  },
  {
   "cell_type": "markdown",
   "metadata": {},
   "source": [
    "# Visual Representation of features"
   ]
  },
  {
   "cell_type": "code",
   "execution_count": null,
   "metadata": {},
   "outputs": [],
   "source": [
    "for column in df_cdf:\n",
    "    \n",
    "    if len(list(df_cdf[column].unique())) <= 10:\n",
    "        labels=df_cdf[column].value_counts().index\n",
    "        df_cdf[column].value_counts().head(8).plot.bar()\n",
    "        plt.xlabel(column)\n",
    "        plt.ylabel('-')\n",
    "        plt.title(column)\n",
    "        plt.show()\n"
   ]
  },
  {
   "cell_type": "code",
   "execution_count": null,
   "metadata": {},
   "outputs": [],
   "source": [
    "for column in df_ndf:\n",
    "    \n",
    "    if len(list(df_ndf[column].unique())) <= 20:\n",
    "        labels=df_ndf[column].value_counts().index\n",
    "        df_ndf[column].value_counts().head(10).plot.bar()\n",
    "        plt.xlabel(column)\n",
    "        plt.ylabel('-')\n",
    "        plt.title(column)\n",
    "        plt.show()"
   ]
  },
  {
   "cell_type": "markdown",
   "metadata": {},
   "source": [
    "# splittting the string and only first column is preferred"
   ]
  },
  {
   "cell_type": "code",
   "execution_count": null,
   "metadata": {},
   "outputs": [],
   "source": [
    "arr=[]\n",
    "arr= df['LifeCycle_Software'].str.split(\",\", n = 3,expand = True)\n",
    "df.drop(['LifeCycle_Software'],axis=1,inplace=True)\n",
    "df['LifeCycle_Software']=arr[0]\n",
    "\n",
    "arr1=[]\n",
    "arr1= df['Software_system_architecture'].str.split(\",\", n = 3, expand = True)\n",
    "df.drop(['Software_system_architecture'],axis=1,inplace=True)\n",
    "df['Software_system_architecture']=arr1[0]\n",
    "df.head()\n",
    "arr=[]\n",
    "arr= df['Computing_Model_Layers'].str.split(\",\", n = 3, expand = True)\n",
    "df.drop(['Computing_Model_Layers'],axis=1,inplace=True)\n",
    "df['Computing_Model_Layers']=arr[0]\n",
    "\n",
    "#df['Component_Communication_Styles '].value_counts()[0:10]\n",
    "arr=[]\n",
    "arr= df['Component_Communication_Styles'].str.split(\",\", n = 3, expand = True)\n",
    "df.drop(['Component_Communication_Styles'],axis=1,inplace=True)\n",
    "df['Component_Communication_Styles']=arr[0]\n",
    "\n",
    "arr=[]\n",
    "arr= df['Deployment_techniques'].str.split(\",\", n = 3, expand = True)\n",
    "df.drop(['Deployment_techniques'],axis=1,inplace=True)\n",
    "df['Deployment_techniques']=arr[0]\n",
    "###################\n",
    "\n"
   ]
  },
  {
   "cell_type": "markdown",
   "metadata": {},
   "source": [
    "# Encoding the categorical variables using map function"
   ]
  },
  {
   "cell_type": "code",
   "execution_count": null,
   "metadata": {},
   "outputs": [],
   "source": [
    "#data[\"class\"] = data[\"class\"].map({'p': 1, 'e': 2})\n",
    "df['Employees_size']=df['Employees_size'].map({'1 - 5' :1,'6 - 20':2,'21 - 100':3,'101 - 500':4,'501 - 2,000':5,'2,001 - 10,000':6,'10,001 - 100,000':7,'> 100,000':8})\n",
    "df['IT_size']=df['IT_size'].map({'1 - 5' :1,'6 - 20':2,'21 - 100':3,'101 - 500':4,'501 - 2,000':5,'2,001 - 10,000':6,'> 10,000':7})\n",
    "df['team_size']=df['team_size'].map({'1 - 5' :1,'6 - 20':2,'21 - 50':3,'51 - 100':4})\n",
    "df['Runtime_component_instances']=df['Runtime_component_instances'].map({'1 - 5' :1,'6 - 20':2,'21 - 50':3,'51 - 100':4,'101 - 500':5,'501 - 2,000':6,'2,001 - 10,000':7,'> 10,000':8})\n",
    "df['Deployable_Components']=df['Deployable_Components'].map({'1 - 3' :1,'4 - 10':2,'11 - 20':3,'21 - 50':4,'51 - 100':5,'> 100':6})\n",
    "df['System_load_user_requests']=df['System_load_user_requests'].map({'< 1' :0,'1 - 10':1,'11 - 100':2,'101 - 1,000':3,'1,001 - 10,000':4,'> 10,000':5})\n",
    "\n",
    "df['upgrades_release rate']=df['upgrades_release rate'].map({'Less than 1 release per year':1,'At least 1 release per year':2,'At least 1 release per month':3,\n",
    "                                                             'At least 1 release per week':4,'1 to 10 releases per day':5,'More than 10 releases per day':6})\n",
    "\n",
    "df['Incidents_number_history']=df['Incidents_number_history'].map({'1 - 5' :1,'6 - 20':2,'21 - 100':3,'101 - 500':4,'501 - 1,000':5,'> 1,000':6,'None':0})\n",
    "df['receive_alerts_employees']=df['receive_alerts_employees'].map({'1':1,'2 - 5' :2,'6 - 20':3,'21 - 100':4,'> 100':5,'No alert systems used':0})\n",
    "df['alert_rate']=df['alert_rate'].map({'At least 1 per year':1,'At least 1 per month':2,'At least 1 per week':3,'1 - 20 per day':4,'21 - 100 per day':5,\n",
    "                                      'More than 100 per day':6,'No alerting systems is used':0,'No alert systems used':0})\n",
    "df['alert_percentage']=df['alert_percentage'].map({'0%':1,'1 - 5%' :2,'6 - 20%':3,'21 - 50%':4,'More than 50%':5})\n",
    "df['maximum_granularity']=df['maximum_granularity'].map({'Under the second':1,'One second':2,'2 to 10 seconds':3,\n",
    "                                                         '11 to 60 seconds':4,'Over 1 minute':5,'No monitoring data is collected':0})\n",
    "\n",
    "df['retention_policy']=df['retention_policy'].map({'No policy':0,'No Monitoring' :0,'Monitoring data is not stored':0,\n",
    "                                                     'Stored then rotated after 2 weeks':4,'Raw for 6 months':5,\n",
    "                                                    'Monitoring data is aggregated at different granularities based on its aging':6,\n",
    "                                                    'Monitoring data is stored for at least 5 years':7,\n",
    "                                                    'Monitoring data is stored as raw data forever':8})\n",
    "\n",
    "df['unavailability_time']=df['unavailability_time'].map({'Less than 20 minutes':1,'Less than 1 hour':2,'Less than 12 hours':3,'More than 12 hours':4,\n",
    "                                                        'No availability issues in the last year':5})"
   ]
  },
  {
   "cell_type": "markdown",
   "metadata": {},
   "source": [
    "# After Encoding and splitting the data frames checking the values"
   ]
  },
  {
   "cell_type": "code",
   "execution_count": null,
   "metadata": {},
   "outputs": [],
   "source": [
    "df_cdf = df[[ 'Employees_size', 'IT_size', 'team_size','Deployable_Components', 'Runtime_component_instances', 'Release_automation_rate','upgrades_release rate', 'System_load_user_requests','observability_rate', 'Incidents_number_history', 'unavailability_time','receive_alerts_employees', 'alert_rate','alert_percentage', 'maximum_granularity', 'retention_policy']]\n",
    "\n",
    "df_ndf = df[['Industry','Computing_Model_Layers','LifeCycle_Software', 'Software_System', 'Software_system_architecture','Deployment_techniques','Component_Communication_Styles','Most_common_incident','new_component_in production','Deployed_on'] ]\n"
   ]
  },
  {
   "cell_type": "code",
   "execution_count": null,
   "metadata": {},
   "outputs": [],
   "source": [
    "df_cdf.head(3)"
   ]
  },
  {
   "cell_type": "code",
   "execution_count": null,
   "metadata": {},
   "outputs": [],
   "source": [
    "df_ndf.head(3)"
   ]
  },
  {
   "cell_type": "code",
   "execution_count": null,
   "metadata": {},
   "outputs": [],
   "source": [
    "#df['alert_rate'].replace('1 - 20 per day','None',inplace=True)\n",
    "#df['Incidents_number_history'].replace('1 - 5','None',inplace=True)"
   ]
  },
  {
   "cell_type": "markdown",
   "metadata": {},
   "source": [
    "# Imputation of the above data frame using one hot encoding and label encoding"
   ]
  },
  {
   "cell_type": "code",
   "execution_count": null,
   "metadata": {},
   "outputs": [],
   "source": [
    "#one hot encoding\n",
    "dummies=pd.get_dummies(df_ndf[['Deployed_on']],'Deployed')\n",
    "df_ndf=pd.concat([df_ndf.drop(['Deployed_on'],axis=1), dummies],axis=1)\n"
   ]
  },
  {
   "cell_type": "code",
   "execution_count": null,
   "metadata": {},
   "outputs": [],
   "source": [
    "df_cdf.isna().sum()\n",
    "#df[df['alert_rate'].isna()]\n",
    "#df['alert_rate'].head(25)"
   ]
  },
  {
   "cell_type": "code",
   "execution_count": null,
   "metadata": {},
   "outputs": [],
   "source": [
    "# One-hot encoding for categorical columns with get_dummies\n",
    "def one_hot_encoder(df, nan_as_category = True):\n",
    "    original_columns = list(df.columns)\n",
    "    categorical_columns = [col for col in df.columns if df[col].dtype == 'object']\n",
    "    df = pd.get_dummies(df, columns= categorical_columns, dummy_na= nan_as_category)\n",
    "    new_columns = [c for c in df.columns if c not in original_columns]\n",
    "    return df, new_columns"
   ]
  }
 ],
 "metadata": {
  "kernelspec": {
   "display_name": "Python 3",
   "language": "python",
   "name": "python3"
  },
  "language_info": {
   "codemirror_mode": {
    "name": "ipython",
    "version": 3
   },
   "file_extension": ".py",
   "mimetype": "text/x-python",
   "name": "python",
   "nbconvert_exporter": "python",
   "pygments_lexer": "ipython3",
   "version": "3.7.1"
  }
 },
 "nbformat": 4,
 "nbformat_minor": 2
}
